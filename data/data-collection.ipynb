{
 "cells": [
  {
   "cell_type": "code",
   "execution_count": 4,
   "id": "2e680828-c783-4d03-88dc-aae21d950391",
   "metadata": {},
   "outputs": [],
   "source": [
    "# Imports\n",
    "from bs4 import BeautifulSoup\n",
    "import requests\n",
    "import pandas as pd \n",
    "import time"
   ]
  },
  {
   "cell_type": "code",
   "execution_count": 5,
   "id": "7fba29a0-ae75-464a-b4d7-0ec9719119e5",
   "metadata": {},
   "outputs": [],
   "source": [
    "# Exploring NoBroker\n",
    "nobroker_url = 'https://www.nobroker.in/property/rent/bangalore/Bangalore/?searchParam=W3sibGF0IjoxMi45NzE1OTg3LCJsb24iOjc3LjU5NDU2MjcsInBsYWNlSWQiOiJDaElKYlU2MHlYQVdyanNSNEU5LVVlakQzX2ciLCJwbGFjZU5hbWUiOiJCYW5nYWxvcmUifV0=&sharedAccomodation=0&orderBy=nbRank,desc&radius=2&traffic=true&travelTime=30&propertyType=rent&pageNo=1'\n",
    "url = requests.get(nobroker_url).text\n",
    "soup = BeautifulSoup(url, 'lxml')"
   ]
  },
  {
   "cell_type": "code",
   "execution_count": 7,
   "id": "f6ca374f-5f5d-4b58-8a9c-a7e2085994d3",
   "metadata": {},
   "outputs": [],
   "source": [
    "#soup\n",
    "\n",
    "# Info of the house \n",
    "houses = soup.find_all('div', class_='card')"
   ]
  },
  {
   "cell_type": "code",
   "execution_count": 8,
   "id": "6df8991d-2ae7-4766-8662-a97d95c4e76c",
   "metadata": {},
   "outputs": [
    {
     "data": {
      "text/plain": [
       "[]"
      ]
     },
     "execution_count": 8,
     "metadata": {},
     "output_type": "execute_result"
    }
   ],
   "source": [
    "houses"
   ]
  },
  {
   "cell_type": "code",
   "execution_count": 10,
   "id": "48bf385c-3797-405c-9836-78433cbf3ae3",
   "metadata": {},
   "outputs": [
    {
     "name": "stdout",
     "output_type": "stream",
     "text": [
      "Getting page. 0\n",
      "Getting page. 1\n",
      "Getting page. 2\n",
      "Getting page. 3\n",
      "Getting page. 4\n",
      "Getting page. 5\n",
      "Getting page. 6\n",
      "Getting page. 7\n",
      "                                           house_title  \\\n",
      "0    2 BHK Flat  In Anand Apartment For Sale  In Adyar   \n",
      "1       3 BHK Flat  In Tvh Quadrant For Sale  In Adyar   \n",
      "2    2 BHK Flat  In Kurmaraguru Apartments For Sale...   \n",
      "3    2 BHK Flat  In Alraza Glendale For Sale  In Adyar   \n",
      "4    3 BHK Flat  In Bhoomi Skylite, Chennai For Sal...   \n",
      "..                                                 ...   \n",
      "155                    4 BHK House  For Sale  In Adyar   \n",
      "156                    4 BHK House  For Sale  In Adyar   \n",
      "157                   4+ BHK House  For Sale  In Adyar   \n",
      "158        3 BHK Flat  In Apartment For Sale  In Adyar   \n",
      "159  2 BHK Flat  In Unique Apartment For Sale  In A...   \n",
      "\n",
      "                          location              emi     price  \n",
      "0                            Adyar  1.03 Lacs/Month  18000000  \n",
      "1                            Adyar  3.44 Lacs/Month  60000000  \n",
      "2                            Adyar     34,388/Month   6000000  \n",
      "3                            Adyar     57,314/Month  10000000  \n",
      "4    Venkata Rathinam Nagar, Adyar  1.58 Lacs/Month  27500000  \n",
      "..                             ...              ...       ...  \n",
      "155                          Adyar  1.86 Lacs/Month  32500000  \n",
      "156                          Adyar  1.86 Lacs/Month  32500000  \n",
      "157                          Adyar  1.15 Lacs/Month  20000000  \n",
      "158                          Adyar  1.15 Lacs/Month  20000000  \n",
      "159                          Adyar     42,985/Month   7500000  \n",
      "\n",
      "[160 rows x 4 columns]\n"
     ]
    }
   ],
   "source": [
    "#soup\n",
    "api_url = \"https://www.nobroker.in/api/v1/multi/property/sale/filter\"\n",
    "\n",
    "query = {\n",
    "    \"pageNo\": 0,\n",
    "    \"searchParam\": \"W3sibGF0IjoxMy4wMDExNzc0LCJsb24iOjgwLjI1NjQ5NTcsInBsYWNlSWQiOiJDaElKZ1JiRUZlMW5Vam9SZzU0a2VwYk9hV1UiLCJwbGFjZU5hbWUiOiJBZHlhciJ9XQ==\",\n",
    "    \"radius\": \"2.0\",\n",
    "    \"city\": [\"chennai\", \"chennai\"],\n",
    "    \"locality\": \"Adyar\",\n",
    "}\n",
    "\n",
    "\n",
    "all_data, page = [], 0\n",
    "while True:\n",
    "    print(\"Getting page. {}\".format(page))\n",
    "    query[\"pageNo\"] = page\n",
    "    data = requests.get(api_url, params=query).json()\n",
    "\n",
    "    if not data[\"data\"]:\n",
    "        break\n",
    "\n",
    "    # uncomment this to print all data:\n",
    "    # print(json.dumps(data, indent=4))\n",
    "\n",
    "    for p in data[\"data\"]:\n",
    "        all_data.append(\n",
    "            {\n",
    "                \"house_title\": p[\"propertyTitle\"],\n",
    "                \"location\": p[\"locality\"],\n",
    "                \"emi\": p[\"defaultEmi\"],\n",
    "                \"price\": p[\"price\"],\n",
    "            }\n",
    "        )\n",
    "\n",
    "    page += 1\n",
    "\n",
    "df = pd.DataFrame(all_data)\n",
    "print(df)\n",
    "df.to_csv(\"data.csv\", index=False)"
   ]
  },
  {
   "cell_type": "code",
   "execution_count": null,
   "id": "75b700a9-2acb-4ba6-a714-6ba304c7c61d",
   "metadata": {},
   "outputs": [],
   "source": []
  }
 ],
 "metadata": {
  "kernelspec": {
   "display_name": "Python 3 (ipykernel)",
   "language": "python",
   "name": "python3"
  },
  "language_info": {
   "codemirror_mode": {
    "name": "ipython",
    "version": 3
   },
   "file_extension": ".py",
   "mimetype": "text/x-python",
   "name": "python",
   "nbconvert_exporter": "python",
   "pygments_lexer": "ipython3",
   "version": "3.10.9"
  }
 },
 "nbformat": 4,
 "nbformat_minor": 5
}
